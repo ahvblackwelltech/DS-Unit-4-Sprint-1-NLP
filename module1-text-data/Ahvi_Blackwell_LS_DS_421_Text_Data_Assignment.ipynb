{
  "nbformat": 4,
  "nbformat_minor": 0,
  "metadata": {
    "colab": {
      "name": "Ahvi_Blackwell_LS_DS_421_Text_Data_Assignment.ipynb",
      "provenance": [],
      "collapsed_sections": [],
      "include_colab_link": true
    },
    "kernelspec": {
      "display_name": "Python 3",
      "language": "python",
      "name": "python3"
    },
    "language_info": {
      "codemirror_mode": {
        "name": "ipython",
        "version": 3
      },
      "file_extension": ".py",
      "mimetype": "text/x-python",
      "name": "python",
      "nbconvert_exporter": "python",
      "pygments_lexer": "ipython3",
      "version": "3.7.4"
    },
    "toc-autonumbering": false
  },
  "cells": [
    {
      "cell_type": "markdown",
      "metadata": {
        "id": "view-in-github",
        "colab_type": "text"
      },
      "source": [
        "<a href=\"https://colab.research.google.com/github/ahvblackwelltech/DS-Unit-4-Sprint-1-NLP/blob/main/module1-text-data/Ahvi_Blackwell_LS_DS_421_Text_Data_Assignment.ipynb\" target=\"_parent\"><img src=\"https://colab.research.google.com/assets/colab-badge.svg\" alt=\"Open In Colab\"/></a>"
      ]
    },
    {
      "cell_type": "markdown",
      "metadata": {
        "id": "0KFqmqB3z1ag",
        "colab_type": "text"
      },
      "source": [
        "<img align=\"left\" src=\"https://lever-client-logos.s3.amazonaws.com/864372b1-534c-480e-acd5-9711f850815c-1524247202159.png\" width=200>\n",
        "<br></br>\n",
        "<br></br>\n",
        "\n",
        "# Natural Language Processing (NLP)\n",
        "## *Data Science Unit 4 Sprint 1 Assignment 1*\n",
        "\n",
        "Your goal in this assignment: find the attributes of the best & worst coffee shops in the dataset. The text is fairly raw: dates in the review, extra words in the `star_rating` column, etc. You'll probably want to clean that stuff up for a better analysis. \n",
        "\n",
        "Analyze the corpus of text using text visualizations of token frequency. Try cleaning the data as much as possible. Try the following techniques: \n",
        "- Lemmatization\n",
        "- Custom stopword removal\n",
        "\n",
        "Keep in mind the attributes of good tokens. Once you have a solid baseline, layer in the star rating in your visualization(s). Key part of this assignment - produce a write-up of the attributes of the best and worst coffee shops. Based on your analysis, what makes the best the best and the worst the worst. Use graphs and numbesr from your analysis to support your conclusions. There should be plenty of markdown cells! :coffee:"
      ]
    },
    {
      "cell_type": "code",
      "metadata": {
        "id": "W0DHeT3Tz1ak",
        "colab_type": "code",
        "colab": {
          "base_uri": "https://localhost:8080/",
          "height": 321
        },
        "outputId": "8e72ba45-68ca-4941-d3ef-69815f4ae37e"
      },
      "source": [
        "from IPython.display import YouTubeVideo\n",
        "\n",
        "YouTubeVideo('Jml7NVYm8cs')"
      ],
      "execution_count": 1,
      "outputs": [
        {
          "output_type": "execute_result",
          "data": {
            "text/html": [
              "\n",
              "        <iframe\n",
              "            width=\"400\"\n",
              "            height=\"300\"\n",
              "            src=\"https://www.youtube.com/embed/Jml7NVYm8cs\"\n",
              "            frameborder=\"0\"\n",
              "            allowfullscreen\n",
              "        ></iframe>\n",
              "        "
            ],
            "text/plain": [
              "<IPython.lib.display.YouTubeVideo at 0x7f4cfb23da90>"
            ],
            "image/jpeg": "[encoded data removed]"
          },
          "metadata": {
            "tags": []
          },
          "execution_count": 1
        }
      ]
    },
    {
      "cell_type": "code",
      "metadata": {
        "id": "fCgT1kvjz1ap",
        "colab_type": "code",
        "colab": {
          "base_uri": "https://localhost:8080/",
          "height": 35
        },
        "outputId": "5488d5d2-b42b-4e24-dbe0-becbdd17bf69"
      },
      "source": [
        "%pwd"
      ],
      "execution_count": 2,
      "outputs": [
        {
          "output_type": "execute_result",
          "data": {
            "application/vnd.google.colaboratory.intrinsic+json": {
              "type": "string"
            },
            "text/plain": [
              "'/content'"
            ]
          },
          "metadata": {
            "tags": []
          },
          "execution_count": 2
        }
      ]
    },
    {
      "cell_type": "code",
      "metadata": {
        "id": "Oh_9R0PWz1as",
        "colab_type": "code",
        "colab": {
          "base_uri": "https://localhost:8080/",
          "height": 51
        },
        "outputId": "942473c1-add1-41e5-d999-df7bb87e3cd5"
      },
      "source": [
        "import pandas as pd\n",
        "import re\n",
        "import spacy\n",
        "import matplotlib.pyplot as plt\n",
        "import seaborn as sns\n",
        "import spacy.cli\n",
        "from spacy.tokenizer import Tokenizer\n",
        "from nltk.stem import PorterStemmer\n",
        "\n",
        "spacy.cli.download('en_core_web_lg')"
      ],
      "execution_count": 5,
      "outputs": [
        {
          "output_type": "stream",
          "text": [
            "\u001b[38;5;2m✔ Download and installation successful\u001b[0m\n",
            "You can now load the model via spacy.load('en_core_web_lg')\n"
          ],
          "name": "stdout"
        }
      ]
    },
    {
      "cell_type": "code",
      "metadata": {
        "id": "06duD_Wuz1ax",
        "colab_type": "code",
        "colab": {
          "base_uri": "https://localhost:8080/",
          "height": 289
        },
        "outputId": "13107558-bbef-4577-eff3-63e63b9e8ebe"
      },
      "source": [
        "url = 'https://raw.githubusercontent.com/ahvblackwelltech/DS-Unit-4-Sprint-1-NLP/main/module1-text-data/data/yelp_coffeeshop_review_data.csv'\n",
        "\n",
        "df = pd.read_csv(url)\n",
        "df.head()"
      ],
      "execution_count": 6,
      "outputs": [
        {
          "output_type": "execute_result",
          "data": {
            "text/html": [
              "<div>\n",
              "<style scoped>\n",
              "    .dataframe tbody tr th:only-of-type {\n",
              "        vertical-align: middle;\n",
              "    }\n",
              "\n",
              "    .dataframe tbody tr th {\n",
              "        vertical-align: top;\n",
              "    }\n",
              "\n",
              "    .dataframe thead th {\n",
              "        text-align: right;\n",
              "    }\n",
              "</style>\n",
              "<table border=\"1\" class=\"dataframe\">\n",
              "  <thead>\n",
              "    <tr style=\"text-align: right;\">\n",
              "      <th></th>\n",
              "      <th>coffee_shop_name</th>\n",
              "      <th>full_review_text</th>\n",
              "      <th>star_rating</th>\n",
              "    </tr>\n",
              "  </thead>\n",
              "  <tbody>\n",
              "    <tr>\n",
              "      <th>0</th>\n",
              "      <td>The Factory - Cafe With a Soul</td>\n",
              "      <td>11/25/2016 1 check-in Love love loved the atm...</td>\n",
              "      <td>5.0 star rating</td>\n",
              "    </tr>\n",
              "    <tr>\n",
              "      <th>1</th>\n",
              "      <td>The Factory - Cafe With a Soul</td>\n",
              "      <td>12/2/2016 Listed in Date Night: Austin, Ambia...</td>\n",
              "      <td>4.0 star rating</td>\n",
              "    </tr>\n",
              "    <tr>\n",
              "      <th>2</th>\n",
              "      <td>The Factory - Cafe With a Soul</td>\n",
              "      <td>11/30/2016 1 check-in Listed in Brunch Spots ...</td>\n",
              "      <td>4.0 star rating</td>\n",
              "    </tr>\n",
              "    <tr>\n",
              "      <th>3</th>\n",
              "      <td>The Factory - Cafe With a Soul</td>\n",
              "      <td>11/25/2016 Very cool decor! Good drinks Nice ...</td>\n",
              "      <td>2.0 star rating</td>\n",
              "    </tr>\n",
              "    <tr>\n",
              "      <th>4</th>\n",
              "      <td>The Factory - Cafe With a Soul</td>\n",
              "      <td>12/3/2016 1 check-in They are located within ...</td>\n",
              "      <td>4.0 star rating</td>\n",
              "    </tr>\n",
              "  </tbody>\n",
              "</table>\n",
              "</div>"
            ],
            "text/plain": [
              "                  coffee_shop_name  ...        star_rating\n",
              "0  The Factory - Cafe With a Soul   ...   5.0 star rating \n",
              "1  The Factory - Cafe With a Soul   ...   4.0 star rating \n",
              "2  The Factory - Cafe With a Soul   ...   4.0 star rating \n",
              "3  The Factory - Cafe With a Soul   ...   2.0 star rating \n",
              "4  The Factory - Cafe With a Soul   ...   4.0 star rating \n",
              "\n",
              "[5 rows x 3 columns]"
            ]
          },
          "metadata": {
            "tags": []
          },
          "execution_count": 6
        }
      ]
    },
    {
      "cell_type": "code",
      "metadata": {
        "id": "0KAp3lN5z1a2",
        "colab_type": "code",
        "colab": {
          "base_uri": "https://localhost:8080/",
          "height": 88
        },
        "outputId": "918a8172-c914-47d8-848a-c6a461350d1f"
      },
      "source": [
        "df['full_review_text'].value_counts(normalize=True)[:2]"
      ],
      "execution_count": 7,
      "outputs": [
        {
          "output_type": "execute_result",
          "data": {
            "text/plain": [
              " 10/30/2016 1 check-in Super cute place for lounging and chatting up with a friend. The chicken and waffle was delicious. Chicken was cooked to perfection! Super moist chicken with fluffy waffle...more of a snack than a meal, so don't go here expecting to be filled with a meal.                                                                                                             0.000525\n",
              " 11/25/2016 Very cool decor! Good drinks Nice seating  However...  Just about everything is overpriced. $1.50 extra for 3 ounces of Almond Milk in a cortado. No WiFi Music is a bit loud and the mix is odd.  Pleasant French oldies followed by loud techno. Several tables were dirty when we got there. Service is average.  It feels like a Los Angeles coffee shot that is out of place.     0.000525\n",
              "Name: full_review_text, dtype: float64"
            ]
          },
          "metadata": {
            "tags": []
          },
          "execution_count": 7
        }
      ]
    },
    {
      "cell_type": "code",
      "metadata": {
        "id": "ptBRSntFz1a5",
        "colab_type": "code",
        "colab": {
          "base_uri": "https://localhost:8080/",
          "height": 34
        },
        "outputId": "3ca5b479-dc8a-4610-80f1-c537509edb94"
      },
      "source": [
        "# Checking how many rows and columns\n",
        "df.shape"
      ],
      "execution_count": 8,
      "outputs": [
        {
          "output_type": "execute_result",
          "data": {
            "text/plain": [
              "(7616, 3)"
            ]
          },
          "metadata": {
            "tags": []
          },
          "execution_count": 8
        }
      ]
    },
    {
      "cell_type": "code",
      "metadata": {
        "id": "XS4QGXWirlHG",
        "colab_type": "code",
        "colab": {
          "base_uri": "https://localhost:8080/",
          "height": 119
        },
        "outputId": "4631792e-c9d2-4f27-8255-1848fa3a2dee"
      },
      "source": [
        "# Clean up star_rating \n",
        "df['star_rating'] = df['star_rating'].str.replace('.0 star rating', '')\n",
        "print(df['star_rating'].head())"
      ],
      "execution_count": 9,
      "outputs": [
        {
          "output_type": "stream",
          "text": [
            "0     5 \n",
            "1     4 \n",
            "2     4 \n",
            "3     2 \n",
            "4     4 \n",
            "Name: star_rating, dtype: object\n"
          ],
          "name": "stdout"
        }
      ]
    },
    {
      "cell_type": "markdown",
      "metadata": {
        "id": "gnMkSfPvz1a_",
        "colab_type": "text"
      },
      "source": [
        "## How do we want to analyze these coffee shop tokens? \n",
        "\n",
        "- Overall Word / Token Count\n",
        "- View Counts by Rating \n",
        "- *Hint:* a 'bad' coffee shops has a rating betweeen 1 & 3 based on the distribution of ratings. A 'good' coffee shop is a 4 or 5. "
      ]
    },
    {
      "cell_type": "code",
      "metadata": {
        "id": "hZ8dzUDgz1bB",
        "colab_type": "code",
        "colab": {}
      },
      "source": [
        "# Coverting star_rating into a float\n",
        "df['star_rating'] = df['star_rating'].apply(pd.to_numeric)"
      ],
      "execution_count": 10,
      "outputs": []
    },
    {
      "cell_type": "code",
      "metadata": {
        "id": "w3obJL4RtHpM",
        "colab_type": "code",
        "colab": {
          "base_uri": "https://localhost:8080/",
          "height": 119
        },
        "outputId": "59c64d88-a18f-4c85-c2bc-48a24143543c"
      },
      "source": [
        "# Creating revised column for star_rating\n",
        "df['good_or_bad'] = df['star_rating'].apply(lambda x: 'good' if x <= 4 else 'bad')\n",
        "print(df['good_or_bad'].head())"
      ],
      "execution_count": 11,
      "outputs": [
        {
          "output_type": "stream",
          "text": [
            "0     bad\n",
            "1    good\n",
            "2    good\n",
            "3    good\n",
            "4    good\n",
            "Name: good_or_bad, dtype: object\n"
          ],
          "name": "stdout"
        }
      ]
    },
    {
      "cell_type": "code",
      "metadata": {
        "id": "5xEl9UdMujee",
        "colab_type": "code",
        "colab": {
          "base_uri": "https://localhost:8080/",
          "height": 221
        },
        "outputId": "09451045-9220-4e79-9000-913526cf7cea"
      },
      "source": [
        "# Creating revised column from full_review_text column\n",
        "df['date'] = df['full_review_text'].str.extract('(../.?./....)', expand=True)\n",
        "print(df['date'])"
      ],
      "execution_count": 12,
      "outputs": [
        {
          "output_type": "stream",
          "text": [
            "0       11/25/2016\n",
            "1        12/2/2016\n",
            "2       11/30/2016\n",
            "3       11/25/2016\n",
            "4        12/3/2016\n",
            "           ...    \n",
            "7611     2/19/2015\n",
            "7612     1/21/2016\n",
            "7613     4/30/2015\n",
            "7614      8/2/2015\n",
            "7615     5/23/2015\n",
            "Name: date, Length: 7616, dtype: object\n"
          ],
          "name": "stdout"
        }
      ]
    },
    {
      "cell_type": "code",
      "metadata": {
        "id": "6CsDubnFuj_r",
        "colab_type": "code",
        "colab": {}
      },
      "source": [
        "# Removing the dates from the full_review_text column\n",
        "df['full_review_text'] = df['full_review_text'].str.replace('(../.?./....)', '')"
      ],
      "execution_count": 13,
      "outputs": []
    },
    {
      "cell_type": "code",
      "metadata": {
        "id": "4gEm-HNzujw6",
        "colab_type": "code",
        "colab": {
          "base_uri": "https://localhost:8080/",
          "height": 374
        },
        "outputId": "d3bb7134-bb3f-4a01-8d1c-0c17bee5ab4d"
      },
      "source": [
        "# Checking df \n",
        "df.head()"
      ],
      "execution_count": 14,
      "outputs": [
        {
          "output_type": "execute_result",
          "data": {
            "text/html": [
              "<div>\n",
              "<style scoped>\n",
              "    .dataframe tbody tr th:only-of-type {\n",
              "        vertical-align: middle;\n",
              "    }\n",
              "\n",
              "    .dataframe tbody tr th {\n",
              "        vertical-align: top;\n",
              "    }\n",
              "\n",
              "    .dataframe thead th {\n",
              "        text-align: right;\n",
              "    }\n",
              "</style>\n",
              "<table border=\"1\" class=\"dataframe\">\n",
              "  <thead>\n",
              "    <tr style=\"text-align: right;\">\n",
              "      <th></th>\n",
              "      <th>coffee_shop_name</th>\n",
              "      <th>full_review_text</th>\n",
              "      <th>star_rating</th>\n",
              "      <th>good_or_bad</th>\n",
              "      <th>date</th>\n",
              "    </tr>\n",
              "  </thead>\n",
              "  <tbody>\n",
              "    <tr>\n",
              "      <th>0</th>\n",
              "      <td>The Factory - Cafe With a Soul</td>\n",
              "      <td>1 check-in Love love loved the atmosphere! E...</td>\n",
              "      <td>5</td>\n",
              "      <td>bad</td>\n",
              "      <td>11/25/2016</td>\n",
              "    </tr>\n",
              "    <tr>\n",
              "      <th>1</th>\n",
              "      <td>The Factory - Cafe With a Soul</td>\n",
              "      <td>Listed in Date Night: Austin, Ambiance in Au...</td>\n",
              "      <td>4</td>\n",
              "      <td>good</td>\n",
              "      <td>12/2/2016</td>\n",
              "    </tr>\n",
              "    <tr>\n",
              "      <th>2</th>\n",
              "      <td>The Factory - Cafe With a Soul</td>\n",
              "      <td>1 check-in Listed in Brunch Spots I loved th...</td>\n",
              "      <td>4</td>\n",
              "      <td>good</td>\n",
              "      <td>11/30/2016</td>\n",
              "    </tr>\n",
              "    <tr>\n",
              "      <th>3</th>\n",
              "      <td>The Factory - Cafe With a Soul</td>\n",
              "      <td>Very cool decor! Good drinks Nice seating  H...</td>\n",
              "      <td>2</td>\n",
              "      <td>good</td>\n",
              "      <td>11/25/2016</td>\n",
              "    </tr>\n",
              "    <tr>\n",
              "      <th>4</th>\n",
              "      <td>The Factory - Cafe With a Soul</td>\n",
              "      <td>1 check-in They are located within the North...</td>\n",
              "      <td>4</td>\n",
              "      <td>good</td>\n",
              "      <td>12/3/2016</td>\n",
              "    </tr>\n",
              "  </tbody>\n",
              "</table>\n",
              "</div>"
            ],
            "text/plain": [
              "                  coffee_shop_name  ...        date\n",
              "0  The Factory - Cafe With a Soul   ...  11/25/2016\n",
              "1  The Factory - Cafe With a Soul   ...   12/2/2016\n",
              "2  The Factory - Cafe With a Soul   ...  11/30/2016\n",
              "3  The Factory - Cafe With a Soul   ...  11/25/2016\n",
              "4  The Factory - Cafe With a Soul   ...   12/3/2016\n",
              "\n",
              "[5 rows x 5 columns]"
            ]
          },
          "metadata": {
            "tags": []
          },
          "execution_count": 14
        }
      ]
    },
    {
      "cell_type": "code",
      "metadata": {
        "id": "m0mi9Go4uiuL",
        "colab_type": "code",
        "colab": {
          "base_uri": "https://localhost:8080/",
          "height": 241
        },
        "outputId": "59bfade0-4d18-4f7a-e990-1a45d7c7390f"
      },
      "source": [
        "# Checking full_review_text for grammar errors\n",
        "df['full_review_text'].value_counts()"
      ],
      "execution_count": 15,
      "outputs": [
        {
          "output_type": "execute_result",
          "data": {
            "text/plain": [
              "  AMAZING atmosphere! I walked around for 5 minutes looking at everything before even ordering.  Most unique take on chicken and waffles I've ever had. Hands down best night time hangout in North Austin. P.S.... their Matcha Latte is to die for!                                                                                                                                                                                                                                                                                                                                                                                                                                                                                                                                                                                                                                                                                                                                                                                                                                                                                                                                                         4\n",
              "  First time checking this place out first time. Pretty swag. Nice assortment of drinks. I got the 15 minutes of fame. Also got the poptart. Delicious!  Next time I'll try the Marymount Monroe. Will definitely come back soon.                                                                                                                                                                                                                                                                                                                                                                                                                                                                                                                                                                                                                                                                                                                                                                                                                                                                                                                                                                             4\n",
              "  Craft coffee drinks, tea, and beer/wine. Friendly staff, good music and nice atmosphere complete with with a few rope swings from he ceiling. And let's not forget the amazing waffles!! Nice place to chill with friends.                                                                                                                                                                                                                                                                                                                                                                                                                                                                                                                                                                                                                                                                                                                                                                                                                                                                                                                                                                                  4\n",
              "  1 check-in Very cute cafe! I think from the moment I stepped in, there really wasn't anything I didn't find cute at The Factory. From their decor to their cups, everything was really cute. It's really the perfect place for a catching up with friends or a coffee date.  When you go order, there's really the least amount of interaction ever with the workers. You just pick your order on an iPad and they'll call your order out after for you to pick up at the counter. The whole thing's pretty novel honestly. I got the Viva Matcha Latte and it was so good! Perfect amount of sweetness and perfect temperature. I went on a cold night and this cafe is just so cozy, it was such a great combination. They have these swings as well which were pretty fun to sit on honestly.  Prices are what I would expect for a cafe like this, not super cheap, but not too pricey. There's no wifi here, so if you want to study, maybe this isn't the right place. But overall, very nice atmosphere! Viva matcha latte and Cortado                                                                                                                                                               4\n",
              "  1 check-in I love the deco a lot, it's a really good place to chill, it's modern, unique and appreciate the aesthetics, so I give that 5 stars, but the coffee was really disappointing. I ordered a coffee and it was a lot smaller than the picture on the menu and it was really expensive. It didn't taste good either. Other than there being no outlets and expensive coffee, this place is great.                                                                                                                                                                                                                                                                                                                                                                                                                                                                                                                                                                                                                                                                                                                                                                                                    4\n",
              "                                                                                                                                                                                                                                                                                                                                                                                                                                                                                                                                                                                                                                                                                                                                                                                                                                                                                                                                                                                                                                                                                                                                                                                                             ..\n",
              " I love Kick Butt! Large sizes, super strong cold brew, and food and snacks! There's been times where I haven't been able to swing by for a while and they always remember my order. When I feel like trying something different, there's a huge menu of options. The iced mint mocha is my current favorite.  They have shows of all sorts as well- from punk rock to poetry readings to stand up comedy. Plus, booze! Mmm... now I want to pop in there and grab something yummy!                                                                                                                                                                                                                                                                                                                                                                                                                                                                                                                                                                                                                                                                                                                           1\n",
              " 6 check-ins Well after trying a cafe cubano at several coffee places, Fat Cats has my nod as my favorite.  This was the first coffee place I tried a cubano at, thought it was good but really didn't come to appreciate how good until ordering it at several other places and finding it just didn't compare.  The flavor is smooth with just the right amount of sweetness. Fats cats also has ice cream, waffles, donuts and cookies to satisfy your sweet tooth craving.   The Mexican chocolate donut is one of my favorites.  If you like Mexican chocolate with a hint of spicy, this is for you. They also have great teas. Seating is fairly limited, but I've never had an issue getting a table.  Parking is plentiful which is always nice.  It always appears to be clean inside.   Fat cats is definitely in my rotation of coffee shops. Hmmm Treat yourself El Guapo Espresso See all photos from Charles Y. for Fat Cats Organic Coffee And Dessert                                                                                                                                                                                                                                        1\n",
              " Stopped in for a red eye and frozen mocha.  They both came out great, quick service and cool interior.                                                                                                                                                                                                                                                                                                                                                                                                                                                                                                                                                                                                                                                                                                                                                                                                                                                                                                                                                                                                                                                                                                       1\n",
              "  2 check-ins Listed in Austin Coffeshop Bucket List I've been here a few times now at all given hours of the evening/late night and I am still not sure what to make of this place.  They seem to have an everchanging revolving door of food trucks, parking always seems to be a hot mess, and the baristas are either the most pretentious or nicest people you will ever meet.  if you are a somewhat discerning beer drinker (like myself) where the only time you drink a plastic cup of PBR is when you're playing Flippy Cup, trying to figure out what they have on tap is like a draught version of Wheel of Fortune and getting side-eye and all kinds of Austin hipster shade because you dare ask what the Karbach they are currently serving is when there are 8 people behind you in line is not my idea of a fun evening. Seriously, print a damn beer menu or put it on a chalkboard somewehre?!  The crowd here is also a weird eclectic mix of the entire Austin population.  I did enjoy a recent local artists art show in the little back corner of their patio. This place definitely has its regulars and is attractive to certain demographics, but alas, I am not one of them.     1\n",
              "  As nice as the two gentlemen working were and what a big room to sit/study...I have to say the large latte wasn't good. I found it watery and dumped it when I got home. Too bad.                                                                                                                                                                                                                                                                                                                                                                                                                                                                                                                                                                                                                                                                                                                                                                                                                                                                                                                                                                                                                           1\n",
              "Name: full_review_text, Length: 6915, dtype: int64"
            ]
          },
          "metadata": {
            "tags": []
          },
          "execution_count": 15
        }
      ]
    },
    {
      "cell_type": "code",
      "metadata": {
        "id": "EFHVC37rxqzA",
        "colab_type": "code",
        "colab": {
          "base_uri": "https://localhost:8080/",
          "height": 241
        },
        "outputId": "e6f35c19-b19e-429c-d6d7-019dfda19c7a"
      },
      "source": [
        "# Coverting the text in full_review_text into lowercase \n",
        "df['full_review_text'] = df['full_review_text'].apply(lambda x: x.lower())\n",
        "df['full_review_text'].value_counts()"
      ],
      "execution_count": 16,
      "outputs": [
        {
          "output_type": "execute_result",
          "data": {
            "text/plain": [
              "  really love the atmosphere here! i frequent coffee shops and this one is definitely unique and worth checking out.  pros: great atmosphere friendly staff good hangout/ study environment beautiful lighting tasty drinks  cons: no wifi slightly pricey pretty things love all the details here. it just has good vibes. definitely the perfect cafe atmosphere. see all photos from sierra l. for the factory - cafe with a soul                                                                                                                                                                                                                                                                                                                                                                                                                                                                                                                                                                                                                                                                                                                                                                                                                                                                                                                                                                                                                                                                                                                                                                                                                                                                                                                                                      4\n",
              "  first time checking this place out first time. pretty swag. nice assortment of drinks. i got the 15 minutes of fame. also got the poptart. delicious!  next time i'll try the marymount monroe. will definitely come back soon.                                                                                                                                                                                                                                                                                                                                                                                                                                                                                                                                                                                                                                                                                                                                                                                                                                                                                                                                                                                                                                                                                                                                                                                                                                                                                                                                                                                                                                                                                                                                                         4\n",
              "  this spot is super cute (\"like eating in a pottery barn\"), with drinks that are unique and with a somewhat limited menu. we tried the chicken and waffles, which was surprisingly delicious and our drinks were also tasty. i had the livin la vida mocha and my husband had the pour over. i will definitely return with company, but prices weren't good enough to make this a regular stop in our rotation.                                                                                                                                                                                                                                                                                                                                                                                                                                                                                                                                                                                                                                                                                                                                                                                                                                                                                                                                                                                                                                                                                                                                                                                                                                                                                                                                                                          4\n",
              "  1 check-in listed in americano this is not your average cute study spot cafe.  location/ atmosphere: + easy parking at the lot + cute and classy interior decor! + plenty of seats available (couches, swings, high chairs, etc) + games like chess & tic tac toe available - no sign of outlets/ charging port on the walls - no wifi available - not a study cafe unless you have all your papers printed out and don't need the internet  service: o you order by yourself using an ipad up at the counter. + there are 3 ipads available making lines go by faster. + you can request them to text you upon your order being ready + when i told one of the baristas that the fork bin was empty, he kindly brought it over to our table along with a couple of knives! - there was no option to make drinks half sweetened/ less ice on the ipad screen :\"(  food/ prices: + highly recommend the matcha latte (it was thick and made to perfection!) + the chicken and waffle was well seasoned! + aesthetically super cute - i didn't enjoy the milk tea as much (it was way too sweet for me and had a super unique taste to it.) - snack size portions, $$ price tag of a meal - the sides of corn/ coleslaw came out in a tiny cup - it was ~$7 for a cup of milk tea and ~$8 for the snack sized chicken and waffle - we were still pretty hungry after and even considered driving over to tarka for some real food.  i'd come here again to socialize (when i'm less busy with schoolwork) but really only for the matcha latte & the classy atmosphere. if you haven't had lunch/ dinner, don't come here to fill your tummy up :\"o matcha latte, chicken & waffle, nutella waffle, and hot milk tea matcha latte, chicken & waffle, nutella waffle, and hot milk tea     4\n",
              "  i got waffle wasted at the factory!!! not your average coffee shop! super social without wifi, novel idea!                                                                                                                                                                                                                                                                                                                                                                                                                                                                                                                                                                                                                                                                                                                                                                                                                                                                                                                                                                                                                                                                                                                                                                                                                                                                                                                                                                                                                                                                                                                                                                                                                                                                              4\n",
              "                                                                                                                                                                                                                                                                                                                                                                                                                                                                                                                                                                                                                                                                                                                                                                                                                                                                                                                                                                                                                                                                                                                                                                                                                                                                                                                                                                                                                                                                                                                                                                                                                                                                                                                                                                                         ..\n",
              " i wish i could write a wonderful review like so many others have. unfortunately they closed at least ten minutes before 10 pm. the time it says they close here on yelp. extremely disappointed.                                                                                                                                                                                                                                                                                                                                                                                                                                                                                                                                                                                                                                                                                                                                                                                                                                                                                                                                                                                                                                                                                                                                                                                                                                                                                                                                                                                                                                                                                                                                                                                         1\n",
              " 1 check-in sometimes simplicity is all you need.  tea haus has a couple coffee options, a couple of tea options and a couple difference lemonade options.  for food they have 3 things on the menu - basil fried chicken, brick toast and affogato.  simplicity is winning here at tea haus.    i had the mint blueberry lemonade and it was phenomenal!  i was at an uye and the table had several orders of basil fried chicken and brick toast.  the fried chicken was delicious!  the brick toast was great too!  everything is freshly made.  even the drinks are made as you order them.    the atmosphere here has a modern feel and is great for a small get together with friends or studying by yourself.  if you are in the area and looking for a snack and a refreshment definitely stop in here.  if there was a location down south i would definitely become a regular.  thanks angie l for introducing tea haus to me! blueberry mint lemonade basil fried chicken basil fried chicken see all photos from amanda s. for tea haus                                                                                                                                                                                                                                                                                                                                                                                                                                                                                                                                                                                                                                                                                                                                       1\n",
              " 3 check-ins we came here after eating at an italian place with no gelato on the dessert menu.  seriously?  yelp to the rescue.  i think there were 8 or 10 different flavors of gelato.  and granted, this wasn't just your plain old raspberry, vanilla, chocolate, whatever.  this had character.  the raspberry was mixed with homemade ladyfingers.  yum!  and the vanilla was mixed with their homemade chocolate chips.  there was even popcorn with the yummy stuff from cornucopia next door.  i can't remember all of them, but they were delicious.  i decided on the fruit loop (raspberry with ladyfingers). it was delicious.    my date had the vanilla chocolate chip gelato (can't remember the fancy name) & one of their homemade chocolate banana waffles.  omg was it good.    this place is still pretty new (open a couple of months) & their selection is growing. i think i'd like to try one of their breakfast options next time.  i'll be back! waffle fruit loop mary tyler moore - she has the best birthday :) see all photos from terri j. for mary's cafe                                                                                                                                                                                                                                                                                                                                                                                                                                                                                                                                                                                                                                                                                                1\n",
              " probably the best cappuccino i've ever had. the coffee is amazing. don't be in a rush when you go--this is a slow paced place so leave your \"i'm too impatient to wait\" attitude at home.                                                                                                                                                                                                                                                                                                                                                                                                                                                                                                                                                                                                                                                                                                                                                                                                                                                                                                                                                                                                                                                                                                                                                                                                                                                                                                                                                                                                                                                                                                                                                                                                1\n",
              " i am obsessed with this place! their beer selection, random groceries and coffee are phenomenal. the sandwiches are made with so much love. i always get the turkey and am never disappointed. can't wait for their second location to open!                                                                                                                                                                                                                                                                                                                                                                                                                                                                                                                                                                                                                                                                                                                                                                                                                                                                                                                                                                                                                                                                                                                                                                                                                                                                                                                                                                                                                                                                                                                                             1\n",
              "Name: full_review_text, Length: 6915, dtype: int64"
            ]
          },
          "metadata": {
            "tags": []
          },
          "execution_count": 16
        }
      ]
    },
    {
      "cell_type": "code",
      "metadata": {
        "id": "c-gn4uXBz1a8",
        "colab_type": "code",
        "colab": {}
      },
      "source": [
        "# Creating A Tokenize Function\n",
        "def tokenize(text):\n",
        "    \"\"\"Parses a string into a list of semantic units (words)\n",
        "\n",
        "    Args:\n",
        "        text (str): The string that the function will tokenize.\n",
        "\n",
        "    Returns:\n",
        "        list: tokens parsed out by the mechanics of your choice\n",
        "    \"\"\"\n",
        "    tokens = re.sub(r'[^a-zA-Z ^0-9]', '', text)\n",
        "    tokens = tokens.lower().split()\n",
        "\n",
        "    return tokens"
      ],
      "execution_count": 17,
      "outputs": []
    },
    {
      "cell_type": "code",
      "metadata": {
        "id": "D1OAFjBexrAc",
        "colab_type": "code",
        "colab": {}
      },
      "source": [
        "# Tokenize the text in full_review_text column to a token column\n",
        "df['tokens'] = df['full_review_text'].apply(tokenize)"
      ],
      "execution_count": 21,
      "outputs": []
    },
    {
      "cell_type": "code",
      "metadata": {
        "id": "-qTnO829xqop",
        "colab_type": "code",
        "colab": {
          "base_uri": "https://localhost:8080/",
          "height": 119
        },
        "outputId": "91965f6d-8d2c-48d0-e832-0e8c264d329f"
      },
      "source": [
        "# View token column\n",
        "df['tokens'].head()"
      ],
      "execution_count": 22,
      "outputs": [
        {
          "output_type": "execute_result",
          "data": {
            "text/plain": [
              "0    [1, checkin, love, love, loved, the, atmospher...\n",
              "1    [listed, in, date, night, austin, ambiance, in...\n",
              "2    [1, checkin, listed, in, brunch, spots, i, lov...\n",
              "3    [very, cool, decor, good, drinks, nice, seatin...\n",
              "4    [1, checkin, they, are, located, within, the, ...\n",
              "Name: tokens, dtype: object"
            ]
          },
          "metadata": {
            "tags": []
          },
          "execution_count": 22
        }
      ]
    },
    {
      "cell_type": "code",
      "metadata": {
        "id": "0-sz_PIpxrXS",
        "colab_type": "code",
        "colab": {
          "base_uri": "https://localhost:8080/",
          "height": 187
        },
        "outputId": "90b310b0-1889-4905-ffd0-1700de143782"
      },
      "source": [
        "from collections import Counter\n",
        "\n",
        "word_count = Counter()\n",
        "\n",
        "df['tokens'].apply(lambda x: word_count.update(x))\n",
        "\n",
        "word_count.most_common(10)"
      ],
      "execution_count": 24,
      "outputs": [
        {
          "output_type": "execute_result",
          "data": {
            "text/plain": [
              "[('the', 34809),\n",
              " ('and', 26650),\n",
              " ('a', 22755),\n",
              " ('i', 20237),\n",
              " ('to', 17164),\n",
              " ('of', 12597),\n",
              " ('is', 11999),\n",
              " ('coffee', 10353),\n",
              " ('was', 9707),\n",
              " ('in', 9546)]"
            ]
          },
          "metadata": {
            "tags": []
          },
          "execution_count": 24
        }
      ]
    },
    {
      "cell_type": "markdown",
      "metadata": {
        "id": "iDRmURRzz1bF",
        "colab_type": "text"
      },
      "source": [
        "## Can visualize the words with the greatest difference in counts between 'good' & 'bad'?\n",
        "\n",
        "Couple Notes: \n",
        "- Rel. freq. instead of absolute counts b/c of different numbers of reviews\n",
        "- Only look at the top 5-10 words with the greatest differences\n"
      ]
    },
    {
      "cell_type": "code",
      "metadata": {
        "id": "dtOCA8iZxrMf",
        "colab_type": "code",
        "colab": {}
      },
      "source": [
        ""
      ],
      "execution_count": null,
      "outputs": []
    },
    {
      "cell_type": "code",
      "metadata": {
        "id": "vc-e-QqTz1bG",
        "colab_type": "code",
        "colab": {}
      },
      "source": [
        ""
      ],
      "execution_count": null,
      "outputs": []
    },
    {
      "cell_type": "markdown",
      "metadata": {
        "colab_type": "text",
        "id": "1dCb1q8XphcP",
        "toc-hr-collapsed": true
      },
      "source": [
        "## Stretch Goals\n",
        "\n",
        "* Analyze another corpus of documents - such as Indeed.com job listings ;).\n",
        "* Play with the Spacy API to\n",
        " - Extract Named Entities\n",
        " - Extracting 'noun chunks'\n",
        " - Attempt Document Classification with just Spacy\n",
        " - *Note:* This [course](https://course.spacy.io/) will be of interesting in helping you with these stretch goals. \n",
        "* Try to build a plotly dash app with your text data \n",
        "\n"
      ]
    }
  ]
}